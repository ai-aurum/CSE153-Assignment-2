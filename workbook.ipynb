{
 "cells": [
  {
   "cell_type": "markdown",
   "id": "61588d03",
   "metadata": {},
   "source": [
    "## Assignment 2\n",
    "### Collaborators: Aldrin Ilagan, Lindsey Rappaport, Yvanna Cardenas"
   ]
  },
  {
   "cell_type": "markdown",
   "id": "4b4bafc0",
   "metadata": {},
   "source": []
  },
  {
   "cell_type": "code",
   "execution_count": null,
   "id": "4c0b765b",
   "metadata": {},
   "outputs": [],
   "source": []
  }
 ],
 "metadata": {
  "language_info": {
   "name": "python"
  }
 },
 "nbformat": 4,
 "nbformat_minor": 5
}
