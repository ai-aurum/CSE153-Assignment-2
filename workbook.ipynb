{
 "cells": [
  {
   "cell_type": "markdown",
   "id": "61588d03",
   "metadata": {},
   "source": [
    "## Assignment 2\n",
    "### Collaborators: Aldrin Ilagan, Lindsey Rappaport, Yvanna Cardenas"
   ]
  },
  {
   "cell_type": "markdown",
   "id": "4b4bafc0",
   "metadata": {},
   "source": []
  },
  {
   "cell_type": "code",
   "execution_count": 1,
   "id": "4c0b765b",
   "metadata": {},
   "outputs": [],
   "source": [
    "# Import packages (same from HW3)\n",
    "\n",
    "import random\n",
    "from glob import glob\n",
    "from collections import defaultdict\n",
    "\n",
    "import numpy as np\n",
    "from numpy.random import choice\n",
    "\n",
    "from symusic import Score\n",
    "from miditok import REMI, TokenizerConfig\n",
    "from midiutil import MIDIFile"
   ]
  },
  {
   "cell_type": "code",
   "execution_count": 2,
   "id": "3342a501",
   "metadata": {},
   "outputs": [],
   "source": [
    "random.seed(42)"
   ]
  },
  {
   "cell_type": "markdown",
   "id": "705d9e4a",
   "metadata": {},
   "source": [
    "### Symbolic,  unconditioned generation"
   ]
  },
  {
   "cell_type": "markdown",
   "id": "a75ff383",
   "metadata": {},
   "source": []
  }
 ],
 "metadata": {
  "kernelspec": {
   "display_name": "Python 3",
   "language": "python",
   "name": "python3"
  },
  "language_info": {
   "codemirror_mode": {
    "name": "ipython",
    "version": 3
   },
   "file_extension": ".py",
   "mimetype": "text/x-python",
   "name": "python",
   "nbconvert_exporter": "python",
   "pygments_lexer": "ipython3",
   "version": "3.10.5"
  }
 },
 "nbformat": 4,
 "nbformat_minor": 5
}
